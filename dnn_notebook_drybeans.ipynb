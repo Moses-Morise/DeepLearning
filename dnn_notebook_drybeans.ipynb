{
 "cells": [
  {
   "cell_type": "code",
   "id": "initial_id",
   "metadata": {
    "collapsed": true,
    "ExecuteTime": {
     "end_time": "2024-06-20T19:11:00.337342Z",
     "start_time": "2024-06-20T19:11:00.331337Z"
    }
   },
   "source": [
    "# Load libraries\n",
    "import pandas as pd\n",
    "from sklearn.tree import DecisionTreeClassifier # Import Decision Tree Classifier\n",
    "from sklearn.model_selection import train_test_split # Import train_test_split function\n",
    "from sklearn import metrics #Import scikit-learn metrics module for accuracy calculation\n",
    "from sklearn.preprocessing import StandardScaler, LabelEncoder"
   ],
   "outputs": [],
   "execution_count": 176
  },
  {
   "metadata": {},
   "cell_type": "markdown",
   "source": "# Daten laden",
   "id": "d0921ee0d8e0b8b1"
  },
  {
   "metadata": {
    "ExecuteTime": {
     "end_time": "2024-06-20T19:11:02.951475Z",
     "start_time": "2024-06-20T19:11:00.935886Z"
    }
   },
   "cell_type": "code",
   "source": [
    "# Daten laden\n",
    "data = pd.read_excel('DryBeanDataset/Dry_Bean_Dataset.xlsx')"
   ],
   "id": "ba9404fa951456d5",
   "outputs": [],
   "execution_count": 177
  },
  {
   "metadata": {
    "ExecuteTime": {
     "end_time": "2024-06-20T19:11:02.967493Z",
     "start_time": "2024-06-20T19:11:02.952478Z"
    }
   },
   "cell_type": "code",
   "source": "data.head()",
   "id": "6d66cf0597cc60d8",
   "outputs": [
    {
     "data": {
      "text/plain": [
       "    Area  Perimeter  MajorAxisLength  MinorAxisLength  AspectRation  \\\n",
       "0  28395    610.291       208.178117       173.888747      1.197191   \n",
       "1  28734    638.018       200.524796       182.734419      1.097356   \n",
       "2  29380    624.110       212.826130       175.931143      1.209713   \n",
       "3  30008    645.884       210.557999       182.516516      1.153638   \n",
       "4  30140    620.134       201.847882       190.279279      1.060798   \n",
       "\n",
       "   Eccentricity  ConvexArea  EquivDiameter    Extent  Solidity  roundness  \\\n",
       "0      0.549812       28715     190.141097  0.763923  0.988856   0.958027   \n",
       "1      0.411785       29172     191.272750  0.783968  0.984986   0.887034   \n",
       "2      0.562727       29690     193.410904  0.778113  0.989559   0.947849   \n",
       "3      0.498616       30724     195.467062  0.782681  0.976696   0.903936   \n",
       "4      0.333680       30417     195.896503  0.773098  0.990893   0.984877   \n",
       "\n",
       "   Compactness  ShapeFactor1  ShapeFactor2  ShapeFactor3  ShapeFactor4  Class  \n",
       "0     0.913358      0.007332      0.003147      0.834222      0.998724  SEKER  \n",
       "1     0.953861      0.006979      0.003564      0.909851      0.998430  SEKER  \n",
       "2     0.908774      0.007244      0.003048      0.825871      0.999066  SEKER  \n",
       "3     0.928329      0.007017      0.003215      0.861794      0.994199  SEKER  \n",
       "4     0.970516      0.006697      0.003665      0.941900      0.999166  SEKER  "
      ],
      "text/html": [
       "<div>\n",
       "<style scoped>\n",
       "    .dataframe tbody tr th:only-of-type {\n",
       "        vertical-align: middle;\n",
       "    }\n",
       "\n",
       "    .dataframe tbody tr th {\n",
       "        vertical-align: top;\n",
       "    }\n",
       "\n",
       "    .dataframe thead th {\n",
       "        text-align: right;\n",
       "    }\n",
       "</style>\n",
       "<table border=\"1\" class=\"dataframe\">\n",
       "  <thead>\n",
       "    <tr style=\"text-align: right;\">\n",
       "      <th></th>\n",
       "      <th>Area</th>\n",
       "      <th>Perimeter</th>\n",
       "      <th>MajorAxisLength</th>\n",
       "      <th>MinorAxisLength</th>\n",
       "      <th>AspectRation</th>\n",
       "      <th>Eccentricity</th>\n",
       "      <th>ConvexArea</th>\n",
       "      <th>EquivDiameter</th>\n",
       "      <th>Extent</th>\n",
       "      <th>Solidity</th>\n",
       "      <th>roundness</th>\n",
       "      <th>Compactness</th>\n",
       "      <th>ShapeFactor1</th>\n",
       "      <th>ShapeFactor2</th>\n",
       "      <th>ShapeFactor3</th>\n",
       "      <th>ShapeFactor4</th>\n",
       "      <th>Class</th>\n",
       "    </tr>\n",
       "  </thead>\n",
       "  <tbody>\n",
       "    <tr>\n",
       "      <th>0</th>\n",
       "      <td>28395</td>\n",
       "      <td>610.291</td>\n",
       "      <td>208.178117</td>\n",
       "      <td>173.888747</td>\n",
       "      <td>1.197191</td>\n",
       "      <td>0.549812</td>\n",
       "      <td>28715</td>\n",
       "      <td>190.141097</td>\n",
       "      <td>0.763923</td>\n",
       "      <td>0.988856</td>\n",
       "      <td>0.958027</td>\n",
       "      <td>0.913358</td>\n",
       "      <td>0.007332</td>\n",
       "      <td>0.003147</td>\n",
       "      <td>0.834222</td>\n",
       "      <td>0.998724</td>\n",
       "      <td>SEKER</td>\n",
       "    </tr>\n",
       "    <tr>\n",
       "      <th>1</th>\n",
       "      <td>28734</td>\n",
       "      <td>638.018</td>\n",
       "      <td>200.524796</td>\n",
       "      <td>182.734419</td>\n",
       "      <td>1.097356</td>\n",
       "      <td>0.411785</td>\n",
       "      <td>29172</td>\n",
       "      <td>191.272750</td>\n",
       "      <td>0.783968</td>\n",
       "      <td>0.984986</td>\n",
       "      <td>0.887034</td>\n",
       "      <td>0.953861</td>\n",
       "      <td>0.006979</td>\n",
       "      <td>0.003564</td>\n",
       "      <td>0.909851</td>\n",
       "      <td>0.998430</td>\n",
       "      <td>SEKER</td>\n",
       "    </tr>\n",
       "    <tr>\n",
       "      <th>2</th>\n",
       "      <td>29380</td>\n",
       "      <td>624.110</td>\n",
       "      <td>212.826130</td>\n",
       "      <td>175.931143</td>\n",
       "      <td>1.209713</td>\n",
       "      <td>0.562727</td>\n",
       "      <td>29690</td>\n",
       "      <td>193.410904</td>\n",
       "      <td>0.778113</td>\n",
       "      <td>0.989559</td>\n",
       "      <td>0.947849</td>\n",
       "      <td>0.908774</td>\n",
       "      <td>0.007244</td>\n",
       "      <td>0.003048</td>\n",
       "      <td>0.825871</td>\n",
       "      <td>0.999066</td>\n",
       "      <td>SEKER</td>\n",
       "    </tr>\n",
       "    <tr>\n",
       "      <th>3</th>\n",
       "      <td>30008</td>\n",
       "      <td>645.884</td>\n",
       "      <td>210.557999</td>\n",
       "      <td>182.516516</td>\n",
       "      <td>1.153638</td>\n",
       "      <td>0.498616</td>\n",
       "      <td>30724</td>\n",
       "      <td>195.467062</td>\n",
       "      <td>0.782681</td>\n",
       "      <td>0.976696</td>\n",
       "      <td>0.903936</td>\n",
       "      <td>0.928329</td>\n",
       "      <td>0.007017</td>\n",
       "      <td>0.003215</td>\n",
       "      <td>0.861794</td>\n",
       "      <td>0.994199</td>\n",
       "      <td>SEKER</td>\n",
       "    </tr>\n",
       "    <tr>\n",
       "      <th>4</th>\n",
       "      <td>30140</td>\n",
       "      <td>620.134</td>\n",
       "      <td>201.847882</td>\n",
       "      <td>190.279279</td>\n",
       "      <td>1.060798</td>\n",
       "      <td>0.333680</td>\n",
       "      <td>30417</td>\n",
       "      <td>195.896503</td>\n",
       "      <td>0.773098</td>\n",
       "      <td>0.990893</td>\n",
       "      <td>0.984877</td>\n",
       "      <td>0.970516</td>\n",
       "      <td>0.006697</td>\n",
       "      <td>0.003665</td>\n",
       "      <td>0.941900</td>\n",
       "      <td>0.999166</td>\n",
       "      <td>SEKER</td>\n",
       "    </tr>\n",
       "  </tbody>\n",
       "</table>\n",
       "</div>"
      ]
     },
     "execution_count": 178,
     "metadata": {},
     "output_type": "execute_result"
    }
   ],
   "execution_count": 178
  },
  {
   "metadata": {
    "ExecuteTime": {
     "end_time": "2024-06-20T19:11:02.983508Z",
     "start_time": "2024-06-20T19:11:02.968494Z"
    }
   },
   "cell_type": "code",
   "source": [
    "# Vorhandene Klassen anschauen\n",
    "data['Class'].unique()"
   ],
   "id": "b8f8e52586d8868c",
   "outputs": [
    {
     "data": {
      "text/plain": [
       "array(['SEKER', 'BARBUNYA', 'BOMBAY', 'CALI', 'HOROZ', 'SIRA', 'DERMASON'],\n",
       "      dtype=object)"
      ]
     },
     "execution_count": 179,
     "metadata": {},
     "output_type": "execute_result"
    }
   ],
   "execution_count": 179
  },
  {
   "metadata": {
    "ExecuteTime": {
     "end_time": "2024-06-20T19:11:02.999522Z",
     "start_time": "2024-06-20T19:11:02.984509Z"
    }
   },
   "cell_type": "code",
   "source": [
    "# Daten zuweisen und skalieren\n",
    "X = data.iloc[:, :-1].values\n",
    "y = data.iloc[:, -1].values\n",
    "columns = data.iloc[:, :-1].columns\n",
    "scaler = StandardScaler()\n",
    "X_scaled = scaler.fit_transform(X)"
   ],
   "id": "c40c0b1c5158286d",
   "outputs": [],
   "execution_count": 180
  },
  {
   "metadata": {},
   "cell_type": "markdown",
   "source": "# DNN",
   "id": "b6f7485fa4c1d89d"
  },
  {
   "metadata": {
    "ExecuteTime": {
     "end_time": "2024-06-20T19:11:03.015537Z",
     "start_time": "2024-06-20T19:11:03.001524Z"
    }
   },
   "cell_type": "code",
   "source": [
    "from tensorflow.keras.models import Sequential\n",
    "from tensorflow.keras.layers import Dense, Dropout, BatchNormalization, Attention\n",
    "from keras.callbacks import EarlyStopping\n",
    "from tensorflow.keras.utils import to_categorical\n",
    "import matplotlib.pyplot as plt\n",
    "\n"
   ],
   "id": "8513a50bf7c1e41a",
   "outputs": [],
   "execution_count": 181
  },
  {
   "metadata": {
    "ExecuteTime": {
     "end_time": "2024-06-20T19:11:03.031551Z",
     "start_time": "2024-06-20T19:11:03.016537Z"
    }
   },
   "cell_type": "code",
   "source": [
    "# Encode the labels\n",
    "label_encoder = LabelEncoder()\n",
    "y_encoded = label_encoder.fit_transform(y)\n",
    "\n",
    "# One-hot encode the labels\n",
    "y_one_hot = to_categorical(y_encoded)\n",
    "\n",
    "X_train, X_test, y_train, y_test = train_test_split(X_scaled, y_one_hot, test_size=0.2, random_state=42)"
   ],
   "id": "46a65f8df9045c74",
   "outputs": [],
   "execution_count": 182
  },
  {
   "metadata": {},
   "cell_type": "markdown",
   "source": "### Modell aus der Literatur",
   "id": "5d57b2f6c0cdb6f2"
  },
  {
   "metadata": {
    "ExecuteTime": {
     "end_time": "2024-06-20T19:11:03.668965Z",
     "start_time": "2024-06-20T19:11:03.639846Z"
    }
   },
   "cell_type": "code",
   "source": [
    "model = Sequential()\n",
    "model.add(Dense(12, input_dim=X_train.shape[1], activation='relu'))\n",
    "model.add(Dense(3, activation='sigmoid'))\n",
    "model.add(Dense(7, activation='sigmoid'))\n",
    "model.compile(optimizer=\"RMSprop\", loss='categorical_crossentropy', metrics=['accuracy'])"
   ],
   "id": "e5fa08a2e22e770a",
   "outputs": [],
   "execution_count": 183
  },
  {
   "metadata": {
    "ExecuteTime": {
     "end_time": "2024-06-20T19:16:35.603610Z",
     "start_time": "2024-06-20T19:11:04.111277Z"
    }
   },
   "cell_type": "code",
   "source": [
    "early_stopping = EarlyStopping(monitor='val_loss', patience=5, restore_best_weights=True)\n",
    "\n",
    "history = model.fit(\n",
    "    X_train, y_train,\n",
    "    batch_size=8,\n",
    "    epochs=50,\n",
    "    validation_data=(X_test, y_test),\n",
    "    callbacks=[early_stopping]\n",
    ")"
   ],
   "id": "77c28c8360d14243",
   "outputs": [
    {
     "name": "stdout",
     "output_type": "stream",
     "text": [
      "Epoch 1/50\n",
      "1361/1361 [==============================] - 8s 5ms/step - loss: 1.4951 - accuracy: 0.4051 - val_loss: 1.1724 - val_accuracy: 0.4954\n",
      "Epoch 2/50\n",
      "1361/1361 [==============================] - 7s 5ms/step - loss: 1.0011 - accuracy: 0.6532 - val_loss: 0.8656 - val_accuracy: 0.7723\n",
      "Epoch 3/50\n",
      "1361/1361 [==============================] - 6s 4ms/step - loss: 0.7657 - accuracy: 0.8227 - val_loss: 0.6864 - val_accuracy: 0.8358\n",
      "Epoch 4/50\n",
      "1361/1361 [==============================] - 6s 5ms/step - loss: 0.6308 - accuracy: 0.8262 - val_loss: 0.5825 - val_accuracy: 0.8285\n",
      "Epoch 5/50\n",
      "1361/1361 [==============================] - 7s 5ms/step - loss: 0.5526 - accuracy: 0.8382 - val_loss: 0.5247 - val_accuracy: 0.8204\n",
      "Epoch 6/50\n",
      "1361/1361 [==============================] - 7s 5ms/step - loss: 0.5048 - accuracy: 0.8389 - val_loss: 0.4885 - val_accuracy: 0.8469\n",
      "Epoch 7/50\n",
      "1361/1361 [==============================] - 7s 5ms/step - loss: 0.4740 - accuracy: 0.8583 - val_loss: 0.4616 - val_accuracy: 0.8546\n",
      "Epoch 8/50\n",
      "1361/1361 [==============================] - 5s 4ms/step - loss: 0.4490 - accuracy: 0.8564 - val_loss: 0.4422 - val_accuracy: 0.8806\n",
      "Epoch 9/50\n",
      "1361/1361 [==============================] - 5s 4ms/step - loss: 0.4260 - accuracy: 0.8767 - val_loss: 0.4174 - val_accuracy: 0.8803\n",
      "Epoch 10/50\n",
      "1361/1361 [==============================] - 7s 5ms/step - loss: 0.3994 - accuracy: 0.8876 - val_loss: 0.3924 - val_accuracy: 0.8917\n",
      "Epoch 11/50\n",
      "1361/1361 [==============================] - 7s 5ms/step - loss: 0.3742 - accuracy: 0.8992 - val_loss: 0.3663 - val_accuracy: 0.9075\n",
      "Epoch 12/50\n",
      "1361/1361 [==============================] - 6s 4ms/step - loss: 0.3529 - accuracy: 0.9056 - val_loss: 0.3484 - val_accuracy: 0.9137\n",
      "Epoch 13/50\n",
      "1361/1361 [==============================] - 7s 5ms/step - loss: 0.3359 - accuracy: 0.9100 - val_loss: 0.3330 - val_accuracy: 0.9177\n",
      "Epoch 14/50\n",
      "1361/1361 [==============================] - 7s 5ms/step - loss: 0.3220 - accuracy: 0.9117 - val_loss: 0.3241 - val_accuracy: 0.9174\n",
      "Epoch 15/50\n",
      "1361/1361 [==============================] - 6s 5ms/step - loss: 0.3116 - accuracy: 0.9115 - val_loss: 0.3150 - val_accuracy: 0.9163\n",
      "Epoch 16/50\n",
      "1361/1361 [==============================] - 7s 5ms/step - loss: 0.3028 - accuracy: 0.9114 - val_loss: 0.3096 - val_accuracy: 0.9170\n",
      "Epoch 17/50\n",
      "1361/1361 [==============================] - 7s 5ms/step - loss: 0.2951 - accuracy: 0.9124 - val_loss: 0.3035 - val_accuracy: 0.9126\n",
      "Epoch 18/50\n",
      "1361/1361 [==============================] - 7s 5ms/step - loss: 0.2890 - accuracy: 0.9139 - val_loss: 0.2920 - val_accuracy: 0.9152\n",
      "Epoch 19/50\n",
      "1361/1361 [==============================] - 7s 5ms/step - loss: 0.2844 - accuracy: 0.9152 - val_loss: 0.2860 - val_accuracy: 0.9177\n",
      "Epoch 20/50\n",
      "1361/1361 [==============================] - 7s 5ms/step - loss: 0.2808 - accuracy: 0.9124 - val_loss: 0.2871 - val_accuracy: 0.9163\n",
      "Epoch 21/50\n",
      "1361/1361 [==============================] - 5s 4ms/step - loss: 0.2763 - accuracy: 0.9152 - val_loss: 0.2809 - val_accuracy: 0.9188\n",
      "Epoch 22/50\n",
      "1361/1361 [==============================] - 7s 5ms/step - loss: 0.2730 - accuracy: 0.9143 - val_loss: 0.2765 - val_accuracy: 0.9225\n",
      "Epoch 23/50\n",
      "1361/1361 [==============================] - 6s 5ms/step - loss: 0.2703 - accuracy: 0.9139 - val_loss: 0.2812 - val_accuracy: 0.9166\n",
      "Epoch 24/50\n",
      "1361/1361 [==============================] - 7s 5ms/step - loss: 0.2672 - accuracy: 0.9152 - val_loss: 0.2733 - val_accuracy: 0.9177\n",
      "Epoch 25/50\n",
      "1361/1361 [==============================] - 7s 5ms/step - loss: 0.2656 - accuracy: 0.9151 - val_loss: 0.2744 - val_accuracy: 0.9188\n",
      "Epoch 26/50\n",
      "1361/1361 [==============================] - 7s 5ms/step - loss: 0.2631 - accuracy: 0.9170 - val_loss: 0.2728 - val_accuracy: 0.9214\n",
      "Epoch 27/50\n",
      "1361/1361 [==============================] - 5s 4ms/step - loss: 0.2614 - accuracy: 0.9169 - val_loss: 0.2684 - val_accuracy: 0.9203\n",
      "Epoch 28/50\n",
      "1361/1361 [==============================] - 7s 5ms/step - loss: 0.2581 - accuracy: 0.9190 - val_loss: 0.2642 - val_accuracy: 0.9218\n",
      "Epoch 29/50\n",
      "1361/1361 [==============================] - 7s 5ms/step - loss: 0.2576 - accuracy: 0.9171 - val_loss: 0.2640 - val_accuracy: 0.9207\n",
      "Epoch 30/50\n",
      "1361/1361 [==============================] - 7s 5ms/step - loss: 0.2557 - accuracy: 0.9189 - val_loss: 0.2634 - val_accuracy: 0.9218\n",
      "Epoch 31/50\n",
      "1361/1361 [==============================] - 7s 5ms/step - loss: 0.2539 - accuracy: 0.9182 - val_loss: 0.2641 - val_accuracy: 0.9207\n",
      "Epoch 32/50\n",
      "1361/1361 [==============================] - 7s 5ms/step - loss: 0.2515 - accuracy: 0.9188 - val_loss: 0.2587 - val_accuracy: 0.9229\n",
      "Epoch 33/50\n",
      "1361/1361 [==============================] - 7s 5ms/step - loss: 0.2499 - accuracy: 0.9191 - val_loss: 0.2599 - val_accuracy: 0.9196\n",
      "Epoch 34/50\n",
      "1361/1361 [==============================] - 7s 5ms/step - loss: 0.2491 - accuracy: 0.9180 - val_loss: 0.2561 - val_accuracy: 0.9243\n",
      "Epoch 35/50\n",
      "1361/1361 [==============================] - 5s 4ms/step - loss: 0.2481 - accuracy: 0.9186 - val_loss: 0.2535 - val_accuracy: 0.9247\n",
      "Epoch 36/50\n",
      "1361/1361 [==============================] - 7s 5ms/step - loss: 0.2460 - accuracy: 0.9212 - val_loss: 0.2550 - val_accuracy: 0.9254\n",
      "Epoch 37/50\n",
      "1361/1361 [==============================] - 7s 5ms/step - loss: 0.2445 - accuracy: 0.9217 - val_loss: 0.2544 - val_accuracy: 0.9236\n",
      "Epoch 38/50\n",
      "1361/1361 [==============================] - 7s 5ms/step - loss: 0.2439 - accuracy: 0.9216 - val_loss: 0.2488 - val_accuracy: 0.9236\n",
      "Epoch 39/50\n",
      "1361/1361 [==============================] - 7s 5ms/step - loss: 0.2420 - accuracy: 0.9216 - val_loss: 0.2480 - val_accuracy: 0.9251\n",
      "Epoch 40/50\n",
      "1361/1361 [==============================] - 7s 5ms/step - loss: 0.2397 - accuracy: 0.9210 - val_loss: 0.2495 - val_accuracy: 0.9262\n",
      "Epoch 41/50\n",
      "1361/1361 [==============================] - 7s 5ms/step - loss: 0.2377 - accuracy: 0.9237 - val_loss: 0.2507 - val_accuracy: 0.9236\n",
      "Epoch 42/50\n",
      "1361/1361 [==============================] - 7s 5ms/step - loss: 0.2370 - accuracy: 0.9213 - val_loss: 0.2512 - val_accuracy: 0.9229\n",
      "Epoch 43/50\n",
      "1361/1361 [==============================] - 7s 5ms/step - loss: 0.2362 - accuracy: 0.9237 - val_loss: 0.2506 - val_accuracy: 0.9210\n",
      "Epoch 44/50\n",
      "1361/1361 [==============================] - 7s 5ms/step - loss: 0.2343 - accuracy: 0.9238 - val_loss: 0.2448 - val_accuracy: 0.9243\n",
      "Epoch 45/50\n",
      "1361/1361 [==============================] - 7s 5ms/step - loss: 0.2333 - accuracy: 0.9239 - val_loss: 0.2422 - val_accuracy: 0.9254\n",
      "Epoch 46/50\n",
      "1361/1361 [==============================] - 7s 5ms/step - loss: 0.2322 - accuracy: 0.9254 - val_loss: 0.2452 - val_accuracy: 0.9247\n",
      "Epoch 47/50\n",
      "1361/1361 [==============================] - 7s 5ms/step - loss: 0.2315 - accuracy: 0.9245 - val_loss: 0.2410 - val_accuracy: 0.9258\n",
      "Epoch 48/50\n",
      "1361/1361 [==============================] - 7s 5ms/step - loss: 0.2294 - accuracy: 0.9251 - val_loss: 0.2450 - val_accuracy: 0.9247\n",
      "Epoch 49/50\n",
      "1361/1361 [==============================] - 7s 5ms/step - loss: 0.2292 - accuracy: 0.9245 - val_loss: 0.2405 - val_accuracy: 0.9262\n",
      "Epoch 50/50\n",
      "1361/1361 [==============================] - 7s 5ms/step - loss: 0.2278 - accuracy: 0.9253 - val_loss: 0.2337 - val_accuracy: 0.9273\n"
     ]
    }
   ],
   "execution_count": 184
  },
  {
   "metadata": {},
   "cell_type": "markdown",
   "source": "### Selbst erstelltes Modell",
   "id": "2d82e79d9e54eae5"
  },
  {
   "metadata": {
    "ExecuteTime": {
     "end_time": "2024-06-20T19:16:35.619624Z",
     "start_time": "2024-06-20T19:16:35.604610Z"
    }
   },
   "cell_type": "code",
   "source": [
    "# Datenaufteilung\n",
    "X_train, X_test, y_train, y_test = train_test_split(X_scaled, y, test_size=0.2, random_state=42)\n",
    "\n",
    "# One-Hot-Encoding der Labels\n",
    "y_train_encoded = to_categorical(pd.factorize(y_train)[0])\n",
    "y_test_encoded = to_categorical(pd.factorize(y_test)[0])"
   ],
   "id": "e9c049ceabf878af",
   "outputs": [],
   "execution_count": 185
  },
  {
   "metadata": {
    "ExecuteTime": {
     "end_time": "2024-06-20T19:16:35.683683Z",
     "start_time": "2024-06-20T19:16:35.620626Z"
    }
   },
   "cell_type": "code",
   "source": [
    "model = Sequential()\n",
    "\n",
    "model.add(Dense(64, input_dim=X_train.shape[1], activation='relu'))\n",
    "\n",
    "# Hidden Layers (mindestens 10 Schichten)\n",
    "model.add(Dense(128, activation='relu'))\n",
    "model.add(Dropout(0.3)) \n",
    "\n",
    "model.add(Dense(256, activation='relu'))\n",
    "model.add(Dropout(0.3))\n",
    "\n",
    "model.add(Dense(512, activation='relu'))\n",
    "model.add(Dropout(0.3))\n",
    "\n",
    "model.add(Dense(256, activation='relu'))\n",
    "model.add(Dropout(0.3))\n",
    "\n",
    "model.add(Dense(128, activation='relu'))\n",
    "model.add(Dropout(0.3))\n",
    "\n",
    "model.add(Dense(64, activation='relu'))\n",
    "model.add(Dropout(0.3))\n",
    "\n",
    "# Ausgangsschicht (Anzahl der Klassen = 7, softmax für Multiklassen-Klassifikation)\n",
    "model.add(Dense(y_train_encoded.shape[1], activation='softmax'))\n",
    "\n",
    "# Modell kompilieren\n",
    "model.compile(optimizer='adam', loss='categorical_crossentropy', metrics=['accuracy'])\n"
   ],
   "id": "520e866092115211",
   "outputs": [],
   "execution_count": 186
  },
  {
   "metadata": {
    "ExecuteTime": {
     "end_time": "2024-06-20T19:32:15.914201Z",
     "start_time": "2024-06-20T19:19:39.796746Z"
    }
   },
   "cell_type": "code",
   "source": [
    "# Frühzeitiges Stoppen, um Overfitting zu vermeiden\n",
    "early_stopping = EarlyStopping(monitor='val_loss', patience=5, restore_best_weights=True)\n",
    "history = model.fit(X_train, y_train_encoded, epochs=100, batch_size=8, validation_split=0.2)"
   ],
   "id": "8993494e6945350",
   "outputs": [
    {
     "name": "stdout",
     "output_type": "stream",
     "text": [
      "Epoch 1/100\n",
      "1089/1089 [==============================] - 8s 8ms/step - loss: 0.3270 - accuracy: 0.9030 - val_loss: 0.2701 - val_accuracy: 0.9302\n",
      "Epoch 2/100\n",
      "1089/1089 [==============================] - 7s 6ms/step - loss: 0.3159 - accuracy: 0.9009 - val_loss: 0.2483 - val_accuracy: 0.9298\n",
      "Epoch 3/100\n",
      "1089/1089 [==============================] - 7s 6ms/step - loss: 0.2868 - accuracy: 0.9124 - val_loss: 0.2556 - val_accuracy: 0.9128\n",
      "Epoch 4/100\n",
      "1089/1089 [==============================] - 7s 6ms/step - loss: 0.2732 - accuracy: 0.9138 - val_loss: 0.2441 - val_accuracy: 0.9242\n",
      "Epoch 5/100\n",
      "1089/1089 [==============================] - 7s 6ms/step - loss: 0.2793 - accuracy: 0.9137 - val_loss: 0.2607 - val_accuracy: 0.9210\n",
      "Epoch 6/100\n",
      "1089/1089 [==============================] - 7s 6ms/step - loss: 0.2760 - accuracy: 0.9172 - val_loss: 0.2954 - val_accuracy: 0.9183\n",
      "Epoch 7/100\n",
      "1089/1089 [==============================] - 7s 6ms/step - loss: 0.2634 - accuracy: 0.9187 - val_loss: 0.2623 - val_accuracy: 0.9210\n",
      "Epoch 8/100\n",
      "1089/1089 [==============================] - 7s 6ms/step - loss: 0.2635 - accuracy: 0.9191 - val_loss: 0.2495 - val_accuracy: 0.9233\n",
      "Epoch 9/100\n",
      "1089/1089 [==============================] - 7s 7ms/step - loss: 0.2791 - accuracy: 0.9181 - val_loss: 0.2339 - val_accuracy: 0.9293\n",
      "Epoch 10/100\n",
      "1089/1089 [==============================] - 7s 7ms/step - loss: 0.3121 - accuracy: 0.9162 - val_loss: 0.2785 - val_accuracy: 0.9146\n",
      "Epoch 11/100\n",
      "1089/1089 [==============================] - 8s 7ms/step - loss: 0.2469 - accuracy: 0.9210 - val_loss: 0.2527 - val_accuracy: 0.9256\n",
      "Epoch 12/100\n",
      "1089/1089 [==============================] - 8s 7ms/step - loss: 0.2557 - accuracy: 0.9212 - val_loss: 0.3060 - val_accuracy: 0.9077\n",
      "Epoch 13/100\n",
      "1089/1089 [==============================] - 8s 7ms/step - loss: 0.2680 - accuracy: 0.9197 - val_loss: 0.2808 - val_accuracy: 0.9197\n",
      "Epoch 14/100\n",
      "1089/1089 [==============================] - 7s 7ms/step - loss: 0.2854 - accuracy: 0.9184 - val_loss: 0.2458 - val_accuracy: 0.9275\n",
      "Epoch 15/100\n",
      "1089/1089 [==============================] - 7s 6ms/step - loss: 0.2659 - accuracy: 0.9178 - val_loss: 0.2484 - val_accuracy: 0.9229\n",
      "Epoch 16/100\n",
      "1089/1089 [==============================] - 7s 6ms/step - loss: 0.2432 - accuracy: 0.9230 - val_loss: 0.2853 - val_accuracy: 0.9215\n",
      "Epoch 17/100\n",
      "1089/1089 [==============================] - 7s 7ms/step - loss: 0.2558 - accuracy: 0.9181 - val_loss: 0.2743 - val_accuracy: 0.9311\n",
      "Epoch 18/100\n",
      "1089/1089 [==============================] - 7s 7ms/step - loss: 0.2643 - accuracy: 0.9177 - val_loss: 0.3002 - val_accuracy: 0.9114\n",
      "Epoch 19/100\n",
      "1089/1089 [==============================] - 6s 6ms/step - loss: 0.2622 - accuracy: 0.9183 - val_loss: 0.2702 - val_accuracy: 0.9183\n",
      "Epoch 20/100\n",
      "1089/1089 [==============================] - 7s 7ms/step - loss: 0.2657 - accuracy: 0.9181 - val_loss: 0.2525 - val_accuracy: 0.9224\n",
      "Epoch 21/100\n",
      "1089/1089 [==============================] - 6s 6ms/step - loss: 0.2479 - accuracy: 0.9223 - val_loss: 0.2737 - val_accuracy: 0.9219\n",
      "Epoch 22/100\n",
      "1089/1089 [==============================] - 8s 7ms/step - loss: 0.2461 - accuracy: 0.9192 - val_loss: 0.2722 - val_accuracy: 0.9219\n",
      "Epoch 23/100\n",
      "1089/1089 [==============================] - 7s 6ms/step - loss: 0.2862 - accuracy: 0.9208 - val_loss: 0.2474 - val_accuracy: 0.9265\n",
      "Epoch 24/100\n",
      "1089/1089 [==============================] - 7s 6ms/step - loss: 0.2521 - accuracy: 0.9204 - val_loss: 0.2707 - val_accuracy: 0.9233\n",
      "Epoch 25/100\n",
      "1089/1089 [==============================] - 8s 7ms/step - loss: 0.2584 - accuracy: 0.9180 - val_loss: 0.2729 - val_accuracy: 0.9229\n",
      "Epoch 26/100\n",
      "1089/1089 [==============================] - 9s 9ms/step - loss: 0.2487 - accuracy: 0.9220 - val_loss: 0.2750 - val_accuracy: 0.9233\n",
      "Epoch 27/100\n",
      "1089/1089 [==============================] - 10s 9ms/step - loss: 0.2367 - accuracy: 0.9232 - val_loss: 0.2729 - val_accuracy: 0.9215\n",
      "Epoch 28/100\n",
      "1089/1089 [==============================] - 10s 9ms/step - loss: 0.2504 - accuracy: 0.9200 - val_loss: 0.2959 - val_accuracy: 0.9201\n",
      "Epoch 29/100\n",
      "1089/1089 [==============================] - 8s 7ms/step - loss: 0.2390 - accuracy: 0.9228 - val_loss: 0.2511 - val_accuracy: 0.9206\n",
      "Epoch 30/100\n",
      "1089/1089 [==============================] - 8s 7ms/step - loss: 0.2852 - accuracy: 0.9232 - val_loss: 0.2945 - val_accuracy: 0.9183\n",
      "Epoch 31/100\n",
      "1089/1089 [==============================] - 8s 7ms/step - loss: 0.3030 - accuracy: 0.9165 - val_loss: 0.2727 - val_accuracy: 0.9210\n",
      "Epoch 32/100\n",
      "1089/1089 [==============================] - 7s 7ms/step - loss: 0.2671 - accuracy: 0.9160 - val_loss: 0.2761 - val_accuracy: 0.9151\n",
      "Epoch 33/100\n",
      "1089/1089 [==============================] - 7s 6ms/step - loss: 0.2505 - accuracy: 0.9196 - val_loss: 0.2601 - val_accuracy: 0.9261\n",
      "Epoch 34/100\n",
      "1089/1089 [==============================] - 7s 7ms/step - loss: 0.2474 - accuracy: 0.9226 - val_loss: 0.3559 - val_accuracy: 0.9206\n",
      "Epoch 35/100\n",
      "1089/1089 [==============================] - 7s 6ms/step - loss: 0.2253 - accuracy: 0.9242 - val_loss: 0.2893 - val_accuracy: 0.9210\n",
      "Epoch 36/100\n",
      "1089/1089 [==============================] - 6s 6ms/step - loss: 0.2693 - accuracy: 0.9181 - val_loss: 0.3920 - val_accuracy: 0.9247\n",
      "Epoch 37/100\n",
      "1089/1089 [==============================] - 8s 7ms/step - loss: 0.2716 - accuracy: 0.9187 - val_loss: 0.2698 - val_accuracy: 0.9164\n",
      "Epoch 38/100\n",
      "1089/1089 [==============================] - 8s 7ms/step - loss: 0.2950 - accuracy: 0.9157 - val_loss: 0.3014 - val_accuracy: 0.9187\n",
      "Epoch 39/100\n",
      "1089/1089 [==============================] - 8s 7ms/step - loss: 0.2427 - accuracy: 0.9226 - val_loss: 0.3070 - val_accuracy: 0.9261\n",
      "Epoch 40/100\n",
      "1089/1089 [==============================] - 8s 7ms/step - loss: 0.2413 - accuracy: 0.9186 - val_loss: 0.3550 - val_accuracy: 0.9073\n",
      "Epoch 41/100\n",
      "1089/1089 [==============================] - 8s 7ms/step - loss: 0.2478 - accuracy: 0.9247 - val_loss: 0.2912 - val_accuracy: 0.9224\n",
      "Epoch 42/100\n",
      "1089/1089 [==============================] - 7s 6ms/step - loss: 0.2641 - accuracy: 0.9250 - val_loss: 0.3087 - val_accuracy: 0.9192\n",
      "Epoch 43/100\n",
      "1089/1089 [==============================] - 7s 6ms/step - loss: 0.3033 - accuracy: 0.9144 - val_loss: 0.2840 - val_accuracy: 0.9224\n",
      "Epoch 44/100\n",
      "1089/1089 [==============================] - 7s 6ms/step - loss: 0.2482 - accuracy: 0.9196 - val_loss: 0.3236 - val_accuracy: 0.9252\n",
      "Epoch 45/100\n",
      "1089/1089 [==============================] - 6s 6ms/step - loss: 0.2497 - accuracy: 0.9224 - val_loss: 0.5682 - val_accuracy: 0.9073\n",
      "Epoch 46/100\n",
      "1089/1089 [==============================] - 8s 7ms/step - loss: 0.2419 - accuracy: 0.9234 - val_loss: 0.3471 - val_accuracy: 0.9201\n",
      "Epoch 47/100\n",
      "1089/1089 [==============================] - 8s 7ms/step - loss: 0.2387 - accuracy: 0.9200 - val_loss: 0.3709 - val_accuracy: 0.9096\n",
      "Epoch 48/100\n",
      "1089/1089 [==============================] - 8s 7ms/step - loss: 0.2677 - accuracy: 0.9119 - val_loss: 0.2822 - val_accuracy: 0.9187\n",
      "Epoch 49/100\n",
      "1089/1089 [==============================] - 8s 7ms/step - loss: 0.2389 - accuracy: 0.9228 - val_loss: 0.2978 - val_accuracy: 0.9247\n",
      "Epoch 50/100\n",
      "1089/1089 [==============================] - 8s 7ms/step - loss: 0.2506 - accuracy: 0.9185 - val_loss: 0.3109 - val_accuracy: 0.9206\n",
      "Epoch 51/100\n",
      "1089/1089 [==============================] - 8s 7ms/step - loss: 0.3274 - accuracy: 0.9192 - val_loss: 0.3850 - val_accuracy: 0.9224\n",
      "Epoch 52/100\n",
      "1089/1089 [==============================] - 7s 7ms/step - loss: 0.4161 - accuracy: 0.9211 - val_loss: 0.3851 - val_accuracy: 0.9242\n",
      "Epoch 53/100\n",
      "1089/1089 [==============================] - 7s 6ms/step - loss: 0.2442 - accuracy: 0.9203 - val_loss: 0.3001 - val_accuracy: 0.9252\n",
      "Epoch 54/100\n",
      "1089/1089 [==============================] - 7s 7ms/step - loss: 0.2544 - accuracy: 0.9211 - val_loss: 0.4030 - val_accuracy: 0.9109\n",
      "Epoch 55/100\n",
      "1089/1089 [==============================] - 8s 7ms/step - loss: 0.2601 - accuracy: 0.9194 - val_loss: 0.3429 - val_accuracy: 0.9252\n",
      "Epoch 56/100\n",
      "1089/1089 [==============================] - 8s 7ms/step - loss: 0.2833 - accuracy: 0.9212 - val_loss: 0.3405 - val_accuracy: 0.9174\n",
      "Epoch 57/100\n",
      "1089/1089 [==============================] - 8s 7ms/step - loss: 0.2459 - accuracy: 0.9189 - val_loss: 0.3931 - val_accuracy: 0.9215\n",
      "Epoch 58/100\n",
      "1089/1089 [==============================] - 8s 7ms/step - loss: 0.2605 - accuracy: 0.9211 - val_loss: 0.3766 - val_accuracy: 0.9256\n",
      "Epoch 59/100\n",
      "1089/1089 [==============================] - 8s 7ms/step - loss: 0.2575 - accuracy: 0.9204 - val_loss: 0.3063 - val_accuracy: 0.9238\n",
      "Epoch 60/100\n",
      "1089/1089 [==============================] - 7s 6ms/step - loss: 0.2423 - accuracy: 0.9222 - val_loss: 0.4186 - val_accuracy: 0.9077\n",
      "Epoch 61/100\n",
      "1089/1089 [==============================] - 6s 6ms/step - loss: 0.2638 - accuracy: 0.9218 - val_loss: 0.5172 - val_accuracy: 0.9233\n",
      "Epoch 62/100\n",
      "1089/1089 [==============================] - 7s 6ms/step - loss: 0.2491 - accuracy: 0.9199 - val_loss: 0.4150 - val_accuracy: 0.9233\n",
      "Epoch 63/100\n",
      "1089/1089 [==============================] - 7s 7ms/step - loss: 0.2872 - accuracy: 0.9223 - val_loss: 0.2660 - val_accuracy: 0.9311\n",
      "Epoch 64/100\n",
      "1089/1089 [==============================] - 7s 6ms/step - loss: 0.2621 - accuracy: 0.9199 - val_loss: 0.3503 - val_accuracy: 0.9219\n",
      "Epoch 65/100\n",
      "1089/1089 [==============================] - 7s 7ms/step - loss: 0.2859 - accuracy: 0.9186 - val_loss: 0.3661 - val_accuracy: 0.9229\n",
      "Epoch 66/100\n",
      "1089/1089 [==============================] - 7s 7ms/step - loss: 0.3137 - accuracy: 0.9191 - val_loss: 0.3702 - val_accuracy: 0.9201\n",
      "Epoch 67/100\n",
      "1089/1089 [==============================] - 7s 7ms/step - loss: 0.2482 - accuracy: 0.9203 - val_loss: 0.5463 - val_accuracy: 0.9022\n",
      "Epoch 68/100\n",
      "1089/1089 [==============================] - 7s 7ms/step - loss: 0.2480 - accuracy: 0.9187 - val_loss: 0.4236 - val_accuracy: 0.9302\n",
      "Epoch 69/100\n",
      "1089/1089 [==============================] - 8s 7ms/step - loss: 0.2857 - accuracy: 0.9202 - val_loss: 0.2984 - val_accuracy: 0.9307\n",
      "Epoch 70/100\n",
      "1089/1089 [==============================] - 7s 7ms/step - loss: 0.3710 - accuracy: 0.9149 - val_loss: 0.2824 - val_accuracy: 0.9252\n",
      "Epoch 71/100\n",
      "1089/1089 [==============================] - 8s 7ms/step - loss: 0.2436 - accuracy: 0.9239 - val_loss: 0.2813 - val_accuracy: 0.9233\n",
      "Epoch 72/100\n",
      "1089/1089 [==============================] - 8s 8ms/step - loss: 0.2872 - accuracy: 0.9177 - val_loss: 0.2862 - val_accuracy: 0.9238\n",
      "Epoch 73/100\n",
      "1089/1089 [==============================] - 8s 8ms/step - loss: 0.2603 - accuracy: 0.9231 - val_loss: 0.3050 - val_accuracy: 0.9311\n",
      "Epoch 74/100\n",
      "1089/1089 [==============================] - 8s 7ms/step - loss: 0.2433 - accuracy: 0.9228 - val_loss: 0.3075 - val_accuracy: 0.9261\n",
      "Epoch 75/100\n",
      "1089/1089 [==============================] - 7s 7ms/step - loss: 0.2510 - accuracy: 0.9206 - val_loss: 0.3317 - val_accuracy: 0.9261\n",
      "Epoch 76/100\n",
      "1089/1089 [==============================] - 7s 7ms/step - loss: 0.2743 - accuracy: 0.9189 - val_loss: 0.3467 - val_accuracy: 0.9151\n",
      "Epoch 77/100\n",
      "1089/1089 [==============================] - 8s 7ms/step - loss: 0.2447 - accuracy: 0.9189 - val_loss: 0.2756 - val_accuracy: 0.9229\n",
      "Epoch 78/100\n",
      "1089/1089 [==============================] - 8s 7ms/step - loss: 0.2496 - accuracy: 0.9218 - val_loss: 0.2852 - val_accuracy: 0.9183\n",
      "Epoch 79/100\n",
      "1089/1089 [==============================] - 8s 8ms/step - loss: 0.2453 - accuracy: 0.9226 - val_loss: 0.3822 - val_accuracy: 0.9068\n",
      "Epoch 80/100\n",
      "1089/1089 [==============================] - 8s 7ms/step - loss: 0.2758 - accuracy: 0.9154 - val_loss: 0.2832 - val_accuracy: 0.9183\n",
      "Epoch 81/100\n",
      "1089/1089 [==============================] - 7s 6ms/step - loss: 0.2493 - accuracy: 0.9211 - val_loss: 0.2757 - val_accuracy: 0.9096\n",
      "Epoch 82/100\n",
      "1089/1089 [==============================] - 8s 8ms/step - loss: 0.2727 - accuracy: 0.9228 - val_loss: 0.2524 - val_accuracy: 0.9265\n",
      "Epoch 83/100\n",
      "1089/1089 [==============================] - 8s 8ms/step - loss: 0.2714 - accuracy: 0.9200 - val_loss: 0.2578 - val_accuracy: 0.9270\n",
      "Epoch 84/100\n",
      "1089/1089 [==============================] - 8s 8ms/step - loss: 0.2711 - accuracy: 0.9209 - val_loss: 0.3035 - val_accuracy: 0.9178\n",
      "Epoch 85/100\n",
      "1089/1089 [==============================] - 7s 6ms/step - loss: 0.2937 - accuracy: 0.9217 - val_loss: 0.4871 - val_accuracy: 0.9174\n",
      "Epoch 86/100\n",
      "1089/1089 [==============================] - 8s 7ms/step - loss: 0.2735 - accuracy: 0.9154 - val_loss: 0.2981 - val_accuracy: 0.9261\n",
      "Epoch 87/100\n",
      "1089/1089 [==============================] - 8s 7ms/step - loss: 0.2369 - accuracy: 0.9217 - val_loss: 0.3098 - val_accuracy: 0.9261\n",
      "Epoch 88/100\n",
      "1089/1089 [==============================] - 7s 6ms/step - loss: 0.2472 - accuracy: 0.9233 - val_loss: 0.2900 - val_accuracy: 0.9284\n",
      "Epoch 89/100\n",
      "1089/1089 [==============================] - 8s 7ms/step - loss: 0.3130 - accuracy: 0.9165 - val_loss: 0.2460 - val_accuracy: 0.9242\n",
      "Epoch 90/100\n",
      "1089/1089 [==============================] - 9s 8ms/step - loss: 0.2722 - accuracy: 0.9180 - val_loss: 0.2618 - val_accuracy: 0.9247\n",
      "Epoch 91/100\n",
      "1089/1089 [==============================] - 9s 8ms/step - loss: 0.4276 - accuracy: 0.9147 - val_loss: 0.2807 - val_accuracy: 0.9256\n",
      "Epoch 92/100\n",
      "1089/1089 [==============================] - 8s 7ms/step - loss: 0.2662 - accuracy: 0.9191 - val_loss: 0.3062 - val_accuracy: 0.9252\n",
      "Epoch 93/100\n",
      "1089/1089 [==============================] - 7s 7ms/step - loss: 0.2478 - accuracy: 0.9224 - val_loss: 0.3197 - val_accuracy: 0.9141\n",
      "Epoch 94/100\n",
      "1089/1089 [==============================] - 8s 7ms/step - loss: 0.2483 - accuracy: 0.9222 - val_loss: 0.2968 - val_accuracy: 0.9169\n",
      "Epoch 95/100\n",
      "1089/1089 [==============================] - 8s 7ms/step - loss: 0.2665 - accuracy: 0.9227 - val_loss: 0.2786 - val_accuracy: 0.9233\n",
      "Epoch 96/100\n",
      "1089/1089 [==============================] - 7s 6ms/step - loss: 0.2791 - accuracy: 0.9175 - val_loss: 0.2701 - val_accuracy: 0.9233\n",
      "Epoch 97/100\n",
      "1089/1089 [==============================] - 8s 8ms/step - loss: 0.2800 - accuracy: 0.9222 - val_loss: 0.3190 - val_accuracy: 0.9224\n",
      "Epoch 98/100\n",
      "1089/1089 [==============================] - 8s 8ms/step - loss: 0.2707 - accuracy: 0.9169 - val_loss: 0.3549 - val_accuracy: 0.9275\n",
      "Epoch 99/100\n",
      "1089/1089 [==============================] - 8s 8ms/step - loss: 0.2476 - accuracy: 0.9208 - val_loss: 0.4042 - val_accuracy: 0.9224\n",
      "Epoch 100/100\n",
      "1089/1089 [==============================] - 8s 8ms/step - loss: 0.2694 - accuracy: 0.9210 - val_loss: 0.4606 - val_accuracy: 0.9279\n"
     ]
    }
   ],
   "execution_count": 189
  },
  {
   "metadata": {
    "ExecuteTime": {
     "end_time": "2024-06-20T19:16:54.177224Z",
     "start_time": "2024-06-20T19:16:53.799882Z"
    }
   },
   "cell_type": "code",
   "source": [
    "# Plot training history\n",
    "plt.figure(figsize=(12, 6))\n",
    "\n",
    "# Plot training & validation accuracy values\n",
    "plt.subplot(1, 2, 1)\n",
    "plt.plot(history.history['accuracy'])\n",
    "plt.plot(history.history['val_accuracy'])\n",
    "plt.title('Model accuracy')\n",
    "plt.xlabel('Epoch')\n",
    "plt.ylabel('Accuracy')\n",
    "plt.legend(['Train', 'Validation'], loc='upper left')\n",
    "\n",
    "# Plot training & validation loss values\n",
    "plt.subplot(1, 2, 2)\n",
    "plt.plot(history.history['loss'])\n",
    "plt.plot(history.history['val_loss'])\n",
    "plt.title('Model loss')\n",
    "plt.xlabel('Epoch')\n",
    "plt.ylabel('Loss')\n",
    "plt.legend(['Train', 'Validation'], loc='upper left')\n",
    "\n",
    "plt.tight_layout()\n",
    "plt.show()"
   ],
   "id": "6558140d908ad745",
   "outputs": [
    {
     "data": {
      "text/plain": [
       "<Figure size 1200x600 with 2 Axes>"
      ],
      "image/png": "[encoded data removed]"
     },
     "metadata": {},
     "output_type": "display_data"
    }
   ],
   "execution_count": 188
  },
  {
   "metadata": {},
   "cell_type": "markdown",
   "source": "# Decision Trees",
   "id": "e461ffeb31d3045"
  },
  {
   "metadata": {},
   "cell_type": "code",
   "source": [
    "# Daten splitten (Falls dies nicht bereits oben gemacht wurde)\n",
    "## Skalierte Daten: \n",
    "X_train, X_test, y_train, y_test = train_test_split(X_scaled, y, test_size=0.2, random_state=42)\n",
    "\n",
    "## Unskalierte Daten:\n",
    "# X_train, X_test, y_train, y_test = train_test_split(X, y, test_size=0.2, random_state=42)\n"
   ],
   "id": "3a109a3d179783af",
   "outputs": [],
   "execution_count": null
  },
  {
   "metadata": {},
   "cell_type": "code",
   "source": [
    "# Decision Tree instanziieren\n",
    "clf = DecisionTreeClassifier()\n",
    "\n",
    "# Trainieren des Entscheidungsbaums\n",
    "clf = clf.fit(X_train, y_train)\n",
    "\n",
    "# Vorhersage der Antwort auf den Testdaten\n",
    "y_pred = clf.predict(X_test)\n",
    "\n",
    "# Modellgenauigkeit\n",
    "print(\"Accuracy:\", metrics.accuracy_score(y_test, y_pred))\n"
   ],
   "id": "8904e913a141206",
   "outputs": [],
   "execution_count": null
  },
  {
   "metadata": {},
   "cell_type": "code",
   "source": [
    "## plot speichern (aktuell sehr unübersichtlich)\n",
    "\n",
    "from sklearn.tree import export_graphviz\n",
    "from six import StringIO\n",
    "from IPython.display import Image  \n",
    "import pydotplus\n",
    "\n",
    "dot_data = StringIO()\n",
    "export_graphviz(clf, out_file=dot_data,  \n",
    "                filled=True, rounded=True,\n",
    "                special_characters=True,feature_names = columns,class_names=data['Class'].unique())\n",
    "graph = pydotplus.graph_from_dot_data(dot_data.getvalue())  \n",
    "graph.write_png('decision_tree.png')\n"
   ],
   "id": "cde04f77afbd4024",
   "outputs": [],
   "execution_count": null
  },
  {
   "metadata": {},
   "cell_type": "markdown",
   "source": [
    "# Support vector machines\n",
    "\n",
    "**Support Vector Machine (SVM)** ist ein Klassifikationsalgorithmus. Er findet die beste Hyperplane im n-dimensionalen Raum, die Datenpunkte verschiedener Klassen trennt. Diese Linie maximiert die Margin zwischen den nächsten Datenpunkten der verschiedenen Support Vectors (daher der Name). SVM kann verschiedene Kernel verwenden, um Daten in höhere Dimensionen zu transformieren, falls sie nicht linear trennbar sind. In diesem Beispiel wird ein linearer Kernel verwendet.\n"
   ],
   "id": "dff97055e2bfbe63"
  },
  {
   "metadata": {},
   "cell_type": "code",
   "source": [
    "# Imports\n",
    "from sklearn import svm\n",
    "from sklearn import metrics"
   ],
   "id": "a8c658a8414bff03",
   "outputs": [],
   "execution_count": null
  },
  {
   "metadata": {},
   "cell_type": "code",
   "source": [
    "# Daten splitten (Falls dies nicht bereits oben gemacht wurde)\n",
    "## Skalierte Daten: \n",
    "X_train, X_test, y_train, y_test = train_test_split(X_scaled, y, test_size=0.2, random_state=42)\n",
    "\n",
    "## Unskalierte Daten:\n",
    "# X_train, X_test, y_train, y_test = train_test_split(X, y, test_size=0.2, random_state=42)\n"
   ],
   "id": "2e7781c49aba91bd",
   "outputs": [],
   "execution_count": null
  },
  {
   "metadata": {},
   "cell_type": "code",
   "source": [
    "# Erstellen eines SVM-Klassifikators\n",
    "clf = svm.SVC(kernel='poly', C=1.0, gamma=0.1)\n",
    "\n",
    "# Training des Modells mit den Trainingsdaten\n",
    "clf.fit(X_train, y_train)\n",
    "\n",
    "# Vorhersage der Antworten für den Testdaten\n",
    "y_pred = clf.predict(X_test)\n",
    "\n",
    "# Modellgenauigkeit\n",
    "print(\"Accuracy:\", metrics.accuracy_score(y_test, y_pred))"
   ],
   "id": "3ce03652cabcf3dd",
   "outputs": [],
   "execution_count": null
  },
  {
   "metadata": {},
   "cell_type": "markdown",
   "source": "# K-Nearest",
   "id": "6e8025d1d856d453"
  },
  {
   "metadata": {},
   "cell_type": "code",
   "source": [
    "# Notwendige Bibliotheken und Module importieren\n",
    "from sklearn.neighbors import KNeighborsClassifier\n",
    "from sklearn.metrics import accuracy_score\n",
    "from sklearn.model_selection import cross_val_score\n",
    "import numpy as np\n",
    "import matplotlib.pyplot as plt\n",
    "import seaborn as sns\n",
    "from sklearn.preprocessing import StandardScaler"
   ],
   "id": "7a2aaf847df4ecac",
   "outputs": [],
   "execution_count": null
  },
  {
   "metadata": {},
   "cell_type": "code",
   "source": [
    "# Daten splitten (Falls dies nicht bereits oben gemacht wurde)\n",
    "## Skalierte Daten: \n",
    "X_train, X_test, y_train, y_test = train_test_split(X_scaled, y, test_size=0.2, random_state=42)\n",
    "\n",
    "## Unskalierte Daten:\n",
    "# X_train, X_test, y_train, y_test = train_test_split(X, y, test_size=0.2, random_state=42)\n"
   ],
   "id": "8c32568aeaf1f1b0",
   "outputs": [],
   "execution_count": null
  },
  {
   "metadata": {},
   "cell_type": "code",
   "source": [
    "# KNN Testing\n",
    "## Initialisierung des KNeighborsClassifier mit 3 Nachbarn und Modellanpassung auf die Trainingsdaten\n",
    "knn = KNeighborsClassifier(n_neighbors=3)\n",
    "knn.fit(X_train, y_train)\n",
    "\n",
    "## Vorhersagen auf den Testdaten machen\n",
    "y_pred = knn.predict(X_test)\n",
    "\n",
    "## Genauigkeit des Modells berechnen und ausgeben\n",
    "accuracy = accuracy_score(y_test, y_pred)\n",
    "print(\"Accuracy:\", accuracy)"
   ],
   "id": "ddbf3b4da9c85157",
   "outputs": [],
   "execution_count": null
  },
  {
   "metadata": {},
   "cell_type": "code",
   "source": [
    "# Initialisierung des Arrays damit die Scores entsprechend skaliert werden können.\n",
    "k_values = [i for i in range(1, 31)]\n",
    "scores = []\n",
    "\n",
    "# Merkmale skalieren\n",
    "scaler = StandardScaler()\n",
    "X = scaler.fit_transform(X)\n",
    "\n",
    "# Schleife über verschiedene k-Werte\n",
    "for k in k_values:\n",
    "    # Initialisierung des KNeighborsClassifier mit dem aktuellen k-Wert\n",
    "    knn = KNeighborsClassifier(n_neighbors=k)\n",
    "    \n",
    "    # Durchführung einer 5-fachen Kreuzvalidierung und Berechnung des durchschnittlichen Genauigkeitswerts\n",
    "    # Kreuzvalidierung bedeutet, dass der Datensatz in 5 Teile aufgeteilt wird. \n",
    "    # Das Modell wird 5 Mal trainiert und getestet, wobei jedes Mal eine andere Teilmenge als Testset verwendet wird.\n",
    "    # Der durchschnittliche Genauigkeitswert dieser 5 Durchläufe wird berechnet und gespeichert.\n",
    "    score = cross_val_score(knn, X, y, cv=5)\n",
    "    scores.append(np.mean(score))\n"
   ],
   "id": "ada284ab0c255729",
   "outputs": [],
   "execution_count": null
  },
  {
   "metadata": {},
   "cell_type": "code",
   "source": [
    "# Resultate Plotten\n",
    "sns.lineplot(x = k_values, y = scores, marker = 'o')\n",
    "plt.xlabel(\"K Values\")\n",
    "plt.ylabel(\"Accuracy Score\")"
   ],
   "id": "7562397a2e001675",
   "outputs": [],
   "execution_count": null
  },
  {
   "metadata": {},
   "cell_type": "code",
   "source": "",
   "id": "5d107fd642be630b",
   "outputs": [],
   "execution_count": null
  },
  {
   "metadata": {},
   "cell_type": "markdown",
   "source": "Log Reg",
   "id": "e2535e9d97feef45"
  },
  {
   "metadata": {},
   "cell_type": "code",
   "source": [
    "# Imports:\n",
    "from sklearn.metrics import classification_report\n",
    "from sklearn.linear_model import LogisticRegression\n",
    "from sklearn import metrics\n",
    "import numpy as np\n",
    "import matplotlib.pyplot as plt\n",
    "import seaborn as sns"
   ],
   "id": "a198921041b6a469",
   "outputs": [],
   "execution_count": null
  },
  {
   "metadata": {},
   "cell_type": "code",
   "source": [
    "# Daten splitten (Falls dies nicht bereits oben gemacht wurde)\n",
    "## Skalierte Daten: \n",
    "X_train, X_test, y_train, y_test = train_test_split(X_scaled, y, test_size=0.2, random_state=42)\n",
    "\n",
    "## Unskalierte Daten:\n",
    "# X_train, X_test, y_train, y_test = train_test_split(X, y, test_size=0.2, random_state=42)"
   ],
   "id": "b120003f64525534",
   "outputs": [],
   "execution_count": null
  },
  {
   "metadata": {},
   "cell_type": "code",
   "source": [
    "# instantiate the model (using the default parameters)\n",
    "logreg = LogisticRegression(random_state=16)\n",
    "\n",
    "# fit the model with data\n",
    "logreg.fit(X_train, y_train)\n",
    "\n",
    "y_pred = logreg.predict(X_test)"
   ],
   "id": "f6df77f1a8ddd7a0",
   "outputs": [],
   "execution_count": null
  },
  {
   "metadata": {},
   "cell_type": "code",
   "source": [
    "cnf_matrix = metrics.confusion_matrix(y_test, y_pred)\n",
    "cnf_matrix"
   ],
   "id": "d1e4f813f7d63825",
   "outputs": [],
   "execution_count": null
  },
  {
   "metadata": {
    "ExecuteTime": {
     "end_time": "2024-06-20T19:10:06.310737Z",
     "start_time": "2024-06-20T19:10:06.076524Z"
    }
   },
   "cell_type": "code",
   "source": [
    "class_names=[0,1] # name  of classes\n",
    "fig, ax = plt.subplots()\n",
    "tick_marks = np.arange(len(class_names))\n",
    "plt.xticks(tick_marks, class_names)\n",
    "plt.yticks(tick_marks, class_names)\n",
    "# create heatmap\n",
    "sns.heatmap(pd.DataFrame(cnf_matrix), annot=True, cmap=\"YlGnBu\" ,fmt='g')\n",
    "ax.xaxis.set_label_position(\"top\")\n",
    "plt.tight_layout()\n",
    "plt.title('Confusion matrix', y=1.1)\n",
    "plt.ylabel('Actual label')\n",
    "plt.xlabel('Predicted label')\n"
   ],
   "id": "53e0b51063807f81",
   "outputs": [
    {
     "data": {
      "text/plain": [
       "Text(0.5, 427.9555555555555, 'Predicted label')"
      ]
     },
     "execution_count": 174,
     "metadata": {},
     "output_type": "execute_result"
    },
    {
     "data": {
      "text/plain": [
       "<Figure size 640x480 with 2 Axes>"
      ],
      "image/png": "[encoded data removed]"
     },
     "metadata": {},
     "output_type": "display_data"
    }
   ],
   "execution_count": 174
  },
  {
   "metadata": {
    "ExecuteTime": {
     "end_time": "2024-06-20T19:10:11.034551Z",
     "start_time": "2024-06-20T19:10:10.984503Z"
    }
   },
   "cell_type": "code",
   "source": [
    "target_names = data['Class'].unique()\n",
    "print(classification_report(y_test, y_pred, target_names=target_names))"
   ],
   "id": "bbb60388aea98a75",
   "outputs": [
    {
     "name": "stdout",
     "output_type": "stream",
     "text": [
      "              precision    recall  f1-score   support\n",
      "\n",
      "       SEKER       0.92      0.91      0.92       261\n",
      "    BARBUNYA       1.00      1.00      1.00       117\n",
      "      BOMBAY       0.95      0.94      0.94       317\n",
      "        CALI       0.92      0.90      0.91       671\n",
      "       HOROZ       0.97      0.96      0.97       408\n",
      "        SIRA       0.97      0.94      0.95       413\n",
      "    DERMASON       0.85      0.90      0.87       536\n",
      "\n",
      "    accuracy                           0.93      2723\n",
      "   macro avg       0.94      0.94      0.94      2723\n",
      "weighted avg       0.93      0.93      0.93      2723\n",
      "\n"
     ]
    }
   ],
   "execution_count": 175
  },
  {
   "metadata": {},
   "cell_type": "code",
   "outputs": [],
   "execution_count": null,
   "source": "",
   "id": "f66883da5d6a284e"
  }
 ],
 "metadata": {
  "kernelspec": {
   "display_name": "Python 3",
   "language": "python",
   "name": "python3"
  },
  "language_info": {
   "codemirror_mode": {
    "name": "ipython",
    "version": 2
   },
   "file_extension": ".py",
   "mimetype": "text/x-python",
   "name": "python",
   "nbconvert_exporter": "python",
   "pygments_lexer": "ipython2",
   "version": "2.7.6"
  }
 },
 "nbformat": 4,
 "nbformat_minor": 5
}
