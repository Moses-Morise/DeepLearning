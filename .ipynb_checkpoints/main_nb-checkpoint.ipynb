{
 "cells": [
  {
   "cell_type": "code",
   "execution_count": 1,
   "id": "initial_id",
   "metadata": {
    "ExecuteTime": {
     "end_time": "2024-06-06T12:30:54.706463Z",
     "start_time": "2024-06-06T12:30:54.691449Z"
    }
   },
   "outputs": [],
   "source": [
    "import keras\n",
    "import pandas as pd\n",
    "import numpy as np\n",
    "from sklearn.model_selection import train_test_split\n",
    "from sklearn.preprocessing import StandardScaler\n",
    "from sklearn.metrics import confusion_matrix, classification_report\n",
    "import matplotlib.pyplot as plt\n",
    "import seaborn as sns\n",
    "from tensorflow.keras.models import Sequential\n",
    "from tensorflow.keras.layers import Dense, Dropout, BatchNormalization\n",
    "from tensorflow.keras.utils import to_categorical\n",
    "import tensorflow as tf\n"
   ]
  },
  {
   "cell_type": "code",
   "execution_count": 2,
   "id": "6656932d66c48991",
   "metadata": {
    "ExecuteTime": {
     "end_time": "2024-06-06T12:46:14.182215Z",
     "start_time": "2024-06-06T12:46:11.927165Z"
    }
   },
   "outputs": [],
   "source": [
    "data = pd.read_excel('./DryBeanDataset/Dry_Bean_Dataset.xlsx')\n",
    "\n",
    "X = data.drop(columns=['Class'])\n",
    "y = data['Class']\n",
    "y = pd.get_dummies(y)\n",
    "num_classes = y.shape[1]\n",
    "\n",
    "X_train, X_test, y_train, y_test = train_test_split(X, y, test_size=0.2, random_state=42)\n",
    "\n",
    "shape = X_train.shape[1]\n",
    "scaler = StandardScaler()\n",
    "X_train = scaler.fit_transform(X_train)\n",
    "X_test = scaler.fit_transform(X_test)\n",
    "\n"
   ]
  },
  {
   "cell_type": "code",
   "execution_count": null,
   "id": "9e1a3d6a033bd3b2",
   "metadata": {},
   "outputs": [],
   "source": [
    "gpus = tf.config.experimental.list_physical_devices('GPU')\n",
    "for gpu in gpus: \n",
    "    tf.config.experimental.set_memory_growth(gpu, True)"
   ]
  },
  {
   "cell_type": "code",
   "execution_count": 3,
   "id": "b39c4c9c16632805",
   "metadata": {
    "ExecuteTime": {
     "end_time": "2024-06-06T12:49:55.601413Z",
     "start_time": "2024-06-06T12:49:55.515334Z"
    }
   },
   "outputs": [],
   "source": [
    "model = Sequential([\n",
    "    Dense(1024, activation='relu', input_shape=(shape,)),\n",
    "    BatchNormalization(),\n",
    "    Dense(1024, activation='relu'),\n",
    "    BatchNormalization(),\n",
    "\n",
    "    Dense(512, activation='relu'),\n",
    "    BatchNormalization(),\n",
    "\n",
    "    Dense(512, activation='relu'),\n",
    "    BatchNormalization(),\n",
    "\n",
    "    Dense(512, activation='relu'),\n",
    "    Dense(512, activation='relu'),\n",
    "    Dense(512, activation='relu'),\n",
    "    Dense(256, activation='relu'),\n",
    "    Dense(256, activation='relu'),\n",
    "    Dense(256, activation='relu'),\n",
    "    Dense(256, activation='relu'),\n",
    "    Dense(128, activation='relu'),\n",
    "    Dense(num_classes, activation='softmax')  # Output layer\n",
    "])\n",
    "\n",
    "model.compile(\n",
    "    optimizer=keras.optimizers.Adam(0.001),\n",
    "    loss=keras.losses.CategoricalCrossentropy(),\n",
    "    metrics=['accuracy']\n",
    ")"
   ]
  },
  {
   "cell_type": "code",
   "execution_count": null,
   "id": "e9a0d3511cbc5aed",
   "metadata": {
    "ExecuteTime": {
     "end_time": "2024-06-06T12:56:49.291316Z",
     "start_time": "2024-06-06T12:50:33.878846Z"
    }
   },
   "outputs": [
    {
     "name": "stdout",
     "output_type": "stream",
     "text": [
      "Fit model on training data\n",
      "Epoch 1/150\n",
      "341/341 [==============================] - 6s 11ms/step - loss: 0.4939 - accuracy: 0.8581 - val_loss: 0.4061 - val_accuracy: 0.8876\n",
      "Epoch 2/150\n",
      "341/341 [==============================] - 4s 12ms/step - loss: 0.3660 - accuracy: 0.8958 - val_loss: 0.2526 - val_accuracy: 0.9199\n",
      "Epoch 3/150\n",
      "341/341 [==============================] - 4s 12ms/step - loss: 0.3776 - accuracy: 0.8913 - val_loss: 0.2372 - val_accuracy: 0.9280\n",
      "Epoch 4/150\n",
      "341/341 [==============================] - 4s 12ms/step - loss: 0.3207 - accuracy: 0.8998 - val_loss: 0.2660 - val_accuracy: 0.9207\n",
      "Epoch 5/150\n",
      "341/341 [==============================] - 4s 12ms/step - loss: 0.3127 - accuracy: 0.9084 - val_loss: 0.2952 - val_accuracy: 0.9188\n",
      "Epoch 6/150\n",
      "341/341 [==============================] - 4s 13ms/step - loss: 0.3158 - accuracy: 0.9047 - val_loss: 0.2708 - val_accuracy: 0.9174\n",
      "Epoch 7/150\n",
      "341/341 [==============================] - 4s 12ms/step - loss: 0.3169 - accuracy: 0.9032 - val_loss: 0.2517 - val_accuracy: 0.9229\n",
      "Epoch 8/150\n",
      "341/341 [==============================] - 4s 12ms/step - loss: 0.2942 - accuracy: 0.9097 - val_loss: 0.2342 - val_accuracy: 0.9210\n",
      "Epoch 9/150\n",
      "341/341 [==============================] - 4s 12ms/step - loss: 0.2754 - accuracy: 0.9127 - val_loss: 0.2489 - val_accuracy: 0.9111\n",
      "Epoch 10/150\n",
      "341/341 [==============================] - 4s 12ms/step - loss: 0.2866 - accuracy: 0.9097 - val_loss: 0.2445 - val_accuracy: 0.9262\n",
      "Epoch 11/150\n",
      "341/341 [==============================] - 4s 13ms/step - loss: 0.2811 - accuracy: 0.9102 - val_loss: 0.2638 - val_accuracy: 0.9258\n",
      "Epoch 12/150\n",
      "341/341 [==============================] - 4s 12ms/step - loss: 0.2794 - accuracy: 0.9118 - val_loss: 0.2519 - val_accuracy: 0.9108\n",
      "Epoch 13/150\n",
      "341/341 [==============================] - 4s 12ms/step - loss: 0.2714 - accuracy: 0.9147 - val_loss: 0.2374 - val_accuracy: 0.9199\n",
      "Epoch 14/150\n",
      "341/341 [==============================] - 4s 13ms/step - loss: 0.2754 - accuracy: 0.9136 - val_loss: 0.2616 - val_accuracy: 0.9188\n",
      "Epoch 15/150\n",
      "341/341 [==============================] - 4s 12ms/step - loss: 0.2672 - accuracy: 0.9157 - val_loss: 0.2489 - val_accuracy: 0.9137\n",
      "Epoch 16/150\n",
      "341/341 [==============================] - 4s 12ms/step - loss: 0.2847 - accuracy: 0.9097 - val_loss: 0.2102 - val_accuracy: 0.9306\n",
      "Epoch 17/150\n",
      "341/341 [==============================] - 4s 13ms/step - loss: 0.2709 - accuracy: 0.9134 - val_loss: 0.2846 - val_accuracy: 0.9251\n",
      "Epoch 18/150\n",
      "341/341 [==============================] - 4s 12ms/step - loss: 0.2745 - accuracy: 0.9115 - val_loss: 0.2191 - val_accuracy: 0.9328\n",
      "Epoch 19/150\n",
      "341/341 [==============================] - 4s 12ms/step - loss: 0.2602 - accuracy: 0.9133 - val_loss: 0.2247 - val_accuracy: 0.9251\n",
      "Epoch 20/150\n",
      "341/341 [==============================] - 4s 12ms/step - loss: 0.2621 - accuracy: 0.9140 - val_loss: 0.2279 - val_accuracy: 0.9229\n",
      "Epoch 21/150\n",
      "341/341 [==============================] - 4s 12ms/step - loss: 0.2595 - accuracy: 0.9160 - val_loss: 0.2344 - val_accuracy: 0.9269\n",
      "Epoch 22/150\n",
      "341/341 [==============================] - 4s 12ms/step - loss: 0.2602 - accuracy: 0.9161 - val_loss: 0.2400 - val_accuracy: 0.9181\n",
      "Epoch 23/150\n",
      "341/341 [==============================] - 4s 12ms/step - loss: 0.2535 - accuracy: 0.9167 - val_loss: 0.2197 - val_accuracy: 0.9243\n",
      "Epoch 24/150\n",
      "341/341 [==============================] - 4s 12ms/step - loss: 0.2468 - accuracy: 0.9171 - val_loss: 0.2282 - val_accuracy: 0.9163\n",
      "Epoch 25/150\n",
      "341/341 [==============================] - 4s 12ms/step - loss: 0.2535 - accuracy: 0.9178 - val_loss: 0.2244 - val_accuracy: 0.9328\n",
      "Epoch 26/150\n",
      "341/341 [==============================] - 4s 12ms/step - loss: 0.2589 - accuracy: 0.9148 - val_loss: 0.2680 - val_accuracy: 0.9071\n",
      "Epoch 27/150\n",
      "341/341 [==============================] - 4s 12ms/step - loss: 0.2577 - accuracy: 0.9163 - val_loss: 0.2394 - val_accuracy: 0.9141\n",
      "Epoch 28/150\n",
      "341/341 [==============================] - 4s 12ms/step - loss: 0.2486 - accuracy: 0.9187 - val_loss: 0.2399 - val_accuracy: 0.9199\n",
      "Epoch 29/150\n",
      "341/341 [==============================] - 4s 13ms/step - loss: 0.2391 - accuracy: 0.9188 - val_loss: 0.2199 - val_accuracy: 0.9291\n",
      "Epoch 30/150\n",
      "341/341 [==============================] - 4s 12ms/step - loss: 0.2446 - accuracy: 0.9154 - val_loss: 0.2174 - val_accuracy: 0.9306\n",
      "Epoch 31/150\n",
      "341/341 [==============================] - 4s 13ms/step - loss: 0.2499 - accuracy: 0.9167 - val_loss: 0.2099 - val_accuracy: 0.9280\n",
      "Epoch 32/150\n",
      "341/341 [==============================] - 4s 12ms/step - loss: 0.2378 - accuracy: 0.9178 - val_loss: 0.2565 - val_accuracy: 0.9185\n",
      "Epoch 33/150\n",
      "341/341 [==============================] - 4s 13ms/step - loss: 0.2448 - accuracy: 0.9199 - val_loss: 0.4315 - val_accuracy: 0.8766\n",
      "Epoch 34/150\n",
      "341/341 [==============================] - 4s 13ms/step - loss: 0.2732 - accuracy: 0.9141 - val_loss: 0.2214 - val_accuracy: 0.9328\n",
      "Epoch 35/150\n",
      "341/341 [==============================] - 4s 12ms/step - loss: 0.2519 - accuracy: 0.9206 - val_loss: 0.2239 - val_accuracy: 0.9218\n",
      "Epoch 36/150\n",
      "341/341 [==============================] - 4s 12ms/step - loss: 0.2471 - accuracy: 0.9167 - val_loss: 0.2090 - val_accuracy: 0.9266\n",
      "Epoch 37/150\n",
      "341/341 [==============================] - 4s 12ms/step - loss: 0.2353 - accuracy: 0.9166 - val_loss: 0.2215 - val_accuracy: 0.9240\n",
      "Epoch 38/150\n",
      "341/341 [==============================] - 4s 12ms/step - loss: 0.2363 - accuracy: 0.9195 - val_loss: 0.2201 - val_accuracy: 0.9273\n",
      "Epoch 39/150\n",
      "341/341 [==============================] - 4s 12ms/step - loss: 0.2336 - accuracy: 0.9207 - val_loss: 0.2821 - val_accuracy: 0.9144\n",
      "Epoch 40/150\n",
      "341/341 [==============================] - 4s 12ms/step - loss: 0.2445 - accuracy: 0.9201 - val_loss: 0.2386 - val_accuracy: 0.9199\n",
      "Epoch 41/150\n",
      "341/341 [==============================] - 4s 12ms/step - loss: 0.2323 - accuracy: 0.9215 - val_loss: 0.2295 - val_accuracy: 0.9199\n",
      "Epoch 42/150\n",
      "341/341 [==============================] - 4s 12ms/step - loss: 0.2305 - accuracy: 0.9238 - val_loss: 0.2188 - val_accuracy: 0.9221\n",
      "Epoch 43/150\n",
      "341/341 [==============================] - 4s 12ms/step - loss: 0.2311 - accuracy: 0.9219 - val_loss: 0.2238 - val_accuracy: 0.9192\n",
      "Epoch 44/150\n",
      "341/341 [==============================] - 4s 12ms/step - loss: 0.2409 - accuracy: 0.9185 - val_loss: 0.5812 - val_accuracy: 0.8935\n",
      "Epoch 45/150\n",
      "341/341 [==============================] - 4s 12ms/step - loss: 0.2445 - accuracy: 0.9196 - val_loss: 0.2353 - val_accuracy: 0.9214\n",
      "Epoch 46/150\n",
      "341/341 [==============================] - 4s 13ms/step - loss: 0.2380 - accuracy: 0.9218 - val_loss: 0.2880 - val_accuracy: 0.9232\n",
      "Epoch 47/150\n",
      "341/341 [==============================] - 4s 12ms/step - loss: 0.2314 - accuracy: 0.9233 - val_loss: 0.2170 - val_accuracy: 0.9284\n",
      "Epoch 48/150\n",
      "341/341 [==============================] - 4s 12ms/step - loss: 0.2370 - accuracy: 0.9190 - val_loss: 0.2086 - val_accuracy: 0.9295\n",
      "Epoch 49/150\n",
      "341/341 [==============================] - 4s 12ms/step - loss: 0.2228 - accuracy: 0.9195 - val_loss: 0.2212 - val_accuracy: 0.9218\n",
      "Epoch 50/150\n",
      "341/341 [==============================] - 4s 13ms/step - loss: 0.2394 - accuracy: 0.9206 - val_loss: 0.2841 - val_accuracy: 0.9196\n",
      "Epoch 51/150\n",
      "341/341 [==============================] - 4s 12ms/step - loss: 0.2269 - accuracy: 0.9235 - val_loss: 0.2261 - val_accuracy: 0.9203\n",
      "Epoch 52/150\n",
      "341/341 [==============================] - 4s 12ms/step - loss: 0.2205 - accuracy: 0.9255 - val_loss: 0.2015 - val_accuracy: 0.9339\n",
      "Epoch 53/150\n",
      "341/341 [==============================] - 4s 12ms/step - loss: 0.2104 - accuracy: 0.9282 - val_loss: 0.2016 - val_accuracy: 0.9310\n",
      "Epoch 54/150\n",
      "282/341 [=======================>......] - ETA: 0s - loss: 0.2179 - accuracy: 0.9219"
     ]
    }
   ],
   "source": [
    "print(\"Fit model on training data\")\n",
    "history = model.fit(\n",
    "    X_train,\n",
    "    y_train,\n",
    "    batch_size=32,\n",
    "    epochs=150,\n",
    "    # We pass some validation for\n",
    "    # monitoring validation loss and metrics\n",
    "    # at the end of each epoch\n",
    "    validation_data=(X_test, y_test),\n",
    "    validation_split=0.2\n",
    ")\n"
   ]
  },
  {
   "cell_type": "code",
   "execution_count": null,
   "id": "f00df03c-757f-47ab-9ba5-552fdd39fa8e",
   "metadata": {},
   "outputs": [],
   "source": []
  }
 ],
 "metadata": {
  "kernelspec": {
   "display_name": "Python 3 (ipykernel)",
   "language": "python",
   "name": "python3"
  },
  "language_info": {
   "codemirror_mode": {
    "name": "ipython",
    "version": 3
   },
   "file_extension": ".py",
   "mimetype": "text/x-python",
   "name": "python",
   "nbconvert_exporter": "python",
   "pygments_lexer": "ipython3",
   "version": "3.10.14"
  }
 },
 "nbformat": 4,
 "nbformat_minor": 5
}
